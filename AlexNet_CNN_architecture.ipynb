{
  "nbformat": 4,
  "nbformat_minor": 0,
  "metadata": {
    "colab": {
      "name": "AlexNet CNN architecture.ipynb",
      "provenance": []
    },
    "kernelspec": {
      "name": "python3",
      "display_name": "Python 3"
    },
    "language_info": {
      "name": "python"
    }
  },
  "cells": [
    {
      "cell_type": "code",
      "metadata": {
        "id": "Q96csGPdpGEu"
      },
      "source": [
        "from tensorflow.keras.models import Sequential\n",
        "from tensorflow.keras.layers import Dense,Activation,Dropout,Flatten,Conv2D,MaxPool2D,BatchNormalization,LayerNormalization"
      ],
      "execution_count": 1,
      "outputs": []
    },
    {
      "cell_type": "code",
      "metadata": {
        "id": "X5t0mRsXpp-M"
      },
      "source": [
        "# create sequential layer and convolution layers\n",
        "model = Sequential()\n",
        "# creating 1st convolution layers\n",
        "model.add(Conv2D(filters=96,kernel_size=(11,11),\n",
        "                 strides=(4,4),input_shape = (227,227,3),\n",
        "                 padding='valid',activation  ='relu'))\n",
        "# adding max pooling\n",
        "model.add(MaxPool2D(pool_size=(2,2),strides=(2,2),padding = 'valid'))\n",
        "model.add(BatchNormalization())"
      ],
      "execution_count": 2,
      "outputs": []
    },
    {
      "cell_type": "code",
      "metadata": {
        "id": "Rptfpu9TrG6a"
      },
      "source": [
        "## adding 2nd convolution layers\n",
        "model.add(Conv2D(filters=256,kernel_size=(5,5),\n",
        "                 strides=(1,1),padding='same',activation  ='relu'))\n",
        "# adding max pooling\n",
        "model.add(MaxPool2D(pool_size=(3,3),strides=(2,2),padding = 'valid'))\n",
        "model.add(BatchNormalization())"
      ],
      "execution_count": 3,
      "outputs": []
    },
    {
      "cell_type": "code",
      "metadata": {
        "id": "xL_CTa3frhf8"
      },
      "source": [
        "## adding 3rd convolution layers\n",
        "model.add(Conv2D(filters=384,kernel_size=(3,3),\n",
        "                 strides=(1,1),padding='same',activation  ='relu'))\n",
        "model.add(BatchNormalization())"
      ],
      "execution_count": 4,
      "outputs": []
    },
    {
      "cell_type": "code",
      "metadata": {
        "id": "rlZ6LMB5rt2A"
      },
      "source": [
        "## adding 4th convolution layers\n",
        "model.add(Conv2D(filters=384,kernel_size=(3,3),\n",
        "                 strides=(1,1),padding='same',activation  ='relu'))\n",
        "model.add(BatchNormalization())"
      ],
      "execution_count": 5,
      "outputs": []
    },
    {
      "cell_type": "code",
      "metadata": {
        "id": "3dXKzA4ysR0i"
      },
      "source": [
        "## adding 5th convolution layers\n",
        "model.add(Conv2D(filters=256,kernel_size=(3,3),\n",
        "                 strides=(1,1),padding='same',activation  ='relu'))\n",
        "model.add(MaxPool2D(pool_size=(3,3),strides=(2,2),padding = 'valid'))\n",
        "model.add(BatchNormalization())"
      ],
      "execution_count": 6,
      "outputs": []
    },
    {
      "cell_type": "code",
      "metadata": {
        "id": "XS0TERiYser5"
      },
      "source": [
        "# passing this into dense layers\n",
        "model.add(Flatten())\n",
        "# 1st dense layers\n",
        "model.add(Dense(4096,input_shape = (227,227,3),activation = 'relu'))\n",
        "# add dropout layer to prevent overfitting\n",
        "model.add(Dropout(0.4))\n",
        "model.add(BatchNormalization())\n"
      ],
      "execution_count": 7,
      "outputs": []
    },
    {
      "cell_type": "code",
      "metadata": {
        "id": "GKTLqN-ztFbS"
      },
      "source": [
        "#2nd dense layers\n",
        "model.add(Dense(4096,activation = 'relu'))\n",
        "# add dropout layer to prevent overfitting\n",
        "model.add(Dropout(0.4))\n",
        "model.add(BatchNormalization())"
      ],
      "execution_count": 8,
      "outputs": []
    },
    {
      "cell_type": "code",
      "metadata": {
        "id": "t6Bs-Ob-tTHq"
      },
      "source": [
        "# output layer\n",
        "model.add(Dense(1000,activation='softmax'))"
      ],
      "execution_count": 9,
      "outputs": []
    },
    {
      "cell_type": "code",
      "metadata": {
        "colab": {
          "base_uri": "https://localhost:8080/"
        },
        "id": "wKI0qpt6tecJ",
        "outputId": "bd920581-02e1-4a42-ce5a-2fad2782115a"
      },
      "source": [
        "model.summary()"
      ],
      "execution_count": 10,
      "outputs": [
        {
          "output_type": "stream",
          "text": [
            "Model: \"sequential\"\n",
            "_________________________________________________________________\n",
            "Layer (type)                 Output Shape              Param #   \n",
            "=================================================================\n",
            "conv2d (Conv2D)              (None, 55, 55, 96)        34944     \n",
            "_________________________________________________________________\n",
            "max_pooling2d (MaxPooling2D) (None, 27, 27, 96)        0         \n",
            "_________________________________________________________________\n",
            "batch_normalization (BatchNo (None, 27, 27, 96)        384       \n",
            "_________________________________________________________________\n",
            "conv2d_1 (Conv2D)            (None, 27, 27, 256)       614656    \n",
            "_________________________________________________________________\n",
            "max_pooling2d_1 (MaxPooling2 (None, 13, 13, 256)       0         \n",
            "_________________________________________________________________\n",
            "batch_normalization_1 (Batch (None, 13, 13, 256)       1024      \n",
            "_________________________________________________________________\n",
            "conv2d_2 (Conv2D)            (None, 13, 13, 384)       885120    \n",
            "_________________________________________________________________\n",
            "batch_normalization_2 (Batch (None, 13, 13, 384)       1536      \n",
            "_________________________________________________________________\n",
            "conv2d_3 (Conv2D)            (None, 13, 13, 384)       1327488   \n",
            "_________________________________________________________________\n",
            "batch_normalization_3 (Batch (None, 13, 13, 384)       1536      \n",
            "_________________________________________________________________\n",
            "conv2d_4 (Conv2D)            (None, 13, 13, 256)       884992    \n",
            "_________________________________________________________________\n",
            "max_pooling2d_2 (MaxPooling2 (None, 6, 6, 256)         0         \n",
            "_________________________________________________________________\n",
            "batch_normalization_4 (Batch (None, 6, 6, 256)         1024      \n",
            "_________________________________________________________________\n",
            "flatten (Flatten)            (None, 9216)              0         \n",
            "_________________________________________________________________\n",
            "dense (Dense)                (None, 4096)              37752832  \n",
            "_________________________________________________________________\n",
            "dropout (Dropout)            (None, 4096)              0         \n",
            "_________________________________________________________________\n",
            "batch_normalization_5 (Batch (None, 4096)              16384     \n",
            "_________________________________________________________________\n",
            "dense_1 (Dense)              (None, 4096)              16781312  \n",
            "_________________________________________________________________\n",
            "dropout_1 (Dropout)          (None, 4096)              0         \n",
            "_________________________________________________________________\n",
            "batch_normalization_6 (Batch (None, 4096)              16384     \n",
            "_________________________________________________________________\n",
            "dense_2 (Dense)              (None, 1000)              4097000   \n",
            "=================================================================\n",
            "Total params: 62,416,616\n",
            "Trainable params: 62,397,480\n",
            "Non-trainable params: 19,136\n",
            "_________________________________________________________________\n"
          ],
          "name": "stdout"
        }
      ]
    },
    {
      "cell_type": "code",
      "metadata": {
        "id": "noJ6nhNWtrvT"
      },
      "source": [
        ""
      ],
      "execution_count": 10,
      "outputs": []
    }
  ]
}